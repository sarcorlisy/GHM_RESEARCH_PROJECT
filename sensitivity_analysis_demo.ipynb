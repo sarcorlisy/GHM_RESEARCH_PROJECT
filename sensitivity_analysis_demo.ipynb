{
 "cells": [
  {
   "cell_type": "markdown",
   "id": "a4703b11",
   "metadata": {},
   "source": [
    "Import the library and initialize"
   ]
  },
  {
   "cell_type": "code",
   "execution_count": 1,
   "id": "1771978f",
   "metadata": {},
   "outputs": [
    {
     "name": "stdout",
     "output_type": "stream",
     "text": [
      "Libraries imported successfully!\n"
     ]
    }
   ],
   "source": [
    "# 导入必要的库\n",
    "import pandas as pd\n",
    "import numpy as np\n",
    "import matplotlib.pyplot as plt\n",
    "import seaborn as sns\n",
    "import warnings\n",
    "warnings.filterwarnings('ignore')\n",
    "\n",
    "# 导入敏感性分析模块\n",
    "from sensitivity_analyzer import SensitivityAnalyzer\n",
    "from pipeline_config import DATA_PATHS\n",
    "\n",
    "# 设置图表样式\n",
    "plt.style.use('seaborn-v0_8')\n",
    "sns.set_palette(\"husl\")\n",
    "\n",
    "print(\"Libraries imported successfully!\")"
   ]
  },
  {
   "cell_type": "markdown",
   "id": "56db2e48",
   "metadata": {},
   "source": [
    "Initialize the sensitivity analyzer"
   ]
  },
  {
   "cell_type": "code",
   "execution_count": null,
   "id": "95451ac2",
   "metadata": {},
   "outputs": [
    {
     "name": "stderr",
     "output_type": "stream",
     "text": [
      "INFO:sensitivity_analyzer:Sensitivity Analyzer initialized\n",
      "INFO:sensitivity_analyzer:Defined 8 subgroups for sensitivity analysis\n",
      "INFO:sensitivity_analyzer:Defined 8 subgroups for sensitivity analysis\n",
      "INFO:sensitivity_analyzer:Defined 8 subgroups for sensitivity analysis\n",
      "INFO:sensitivity_analyzer:Defined 8 subgroups for sensitivity analysis\n",
      "INFO:sensitivity_analyzer:Defined 8 subgroups for sensitivity analysis\n",
      "INFO:sensitivity_analyzer:Defined 8 subgroups for sensitivity analysis\n",
      "INFO:sensitivity_analyzer:Defined 8 subgroups for sensitivity analysis\n",
      "INFO:sensitivity_analyzer:Defined 8 subgroups for sensitivity analysis\n",
      "INFO:sensitivity_analyzer:Defined 8 subgroups for sensitivity analysis\n"
     ]
    },
    {
     "name": "stdout",
     "output_type": "stream",
     "text": [
      "Available subgroups:\n",
      "1. comorbidity_1: Single Comorbidity (1) - Patients with exactly 1 comorbidity\n",
      "2. comorbidity_2: Double Comorbidity (2) - Patients with exactly 2 comorbidities\n",
      "3. diabetes_diag_all: Any Diabetes Diagnosis - Patients with diabetes in any of the three diagnoses\n",
      "4. diabetes_diag1: Primary Diabetes Diagnosis - Patients with diabetes as primary diagnosis\n",
      "5. elderly_patients: Elderly Patients (70+) - Patients aged 70 years or older\n",
      "6. young_patients: Young Patients (<50) - Patients aged less than 50 years\n",
      "7. female_patients: Female Patients - Female patients only\n",
      "8. male_patients: Male Patients - Male patients only\n",
      "\n",
      "Total available subgroups: 8\n"
     ]
    }
   ],
   "source": [
    "# 创建敏感性分析器实例\n",
    "analyzer = SensitivityAnalyzer()\n",
    "\n",
    "# 查看可用的子组\n",
    "available_subgroups = analyzer.get_available_subgroups()\n",
    "print(\"Available subgroups:\")\n",
    "for i, subgroup in enumerate(available_subgroups, 1):\n",
    "    info = analyzer.get_subgroup_info(subgroup)\n",
    "    print(f\"{i}. {subgroup}: {info['name']} - {info['description']}\")\n",
    "\n",
    "print(f\"\\nTotal available subgroups: {len(available_subgroups)}\")"
   ]
  },
  {
   "cell_type": "markdown",
   "id": "c5a3f46f",
   "metadata": {},
   "source": [
    "Analyze subgroup 1 of comorbidities"
   ]
  },
  {
   "cell_type": "code",
   "execution_count": 3,
   "id": "e9fa352b",
   "metadata": {},
   "outputs": [
    {
     "name": "stderr",
     "output_type": "stream",
     "text": [
      "INFO:sensitivity_analyzer:Running analysis for subgroup: comorbidity_1\n",
      "INFO:sensitivity_analyzer:Loading and preprocessing data...\n",
      "INFO:data_loader:Merging all data tables...\n",
      "INFO:data_loader:Loading diabetic data...\n"
     ]
    },
    {
     "name": "stdout",
     "output_type": "stream",
     "text": [
      "============================================================\n",
      "ANALYZING: Single Comorbidity (1)\n",
      "============================================================\n"
     ]
    },
    {
     "name": "stderr",
     "output_type": "stream",
     "text": [
      "INFO:data_loader:Diabetic data loaded: (101766, 50)\n",
      "INFO:data_loader:Loading ID mapping data...\n",
      "INFO:data_loader:ID mapping data loaded: (67, 2)\n",
      "INFO:data_loader:ID mapping data split into three tables\n",
      "INFO:data_loader:Data merged successfully: (101766, 51)\n",
      "INFO:data_preprocessor:Applying feature engineering...\n",
      "INFO:data_preprocessor:Original number of encounters: 101766\n",
      "INFO:data_preprocessor:Encounters after keeping first admission: 71518\n",
      "INFO:data_preprocessor:Removed 1545 records for hospice/death dispositions.\n",
      "INFO:data_preprocessor:Encounters after removing hospice/death: 69973\n",
      "INFO:data_preprocessor:Handling missing values based on notebook's standard...\n",
      "INFO:data_preprocessor:Replaced '?' with NaN.\n",
      "INFO:data_preprocessor:🔴 Dropped columns with >50.0% missing: ['weight', 'max_glu_serum', 'A1Cresult']\n",
      "INFO:data_preprocessor:🟡 Filling specified columns with 'Unknown': ['medical_specialty', 'payer_code', 'race', 'diag_1', 'diag_2', 'diag_3', 'admission_type_desc', 'discharge_disposition_desc', 'admission_source_desc']\n",
      "INFO:data_preprocessor:✅ All missing values have been handled successfully.\n",
      "INFO:data_preprocessor:Creating age-related features...\n",
      "INFO:data_preprocessor:Creating diagnosis-related features...\n",
      "INFO:data_preprocessor:Creating comorbidity feature...\n",
      "INFO:data_preprocessor:Creating encounter-related features...\n",
      "INFO:data_preprocessor:Feature engineering completed\n",
      "INFO:data_preprocessor:Preparing target variable with binary encoding...\n",
      "INFO:data_preprocessor:Binary target: 0=Safe (No readmission or >30 days), 1=High risk (<30 days readmission)\n",
      "INFO:sensitivity_analyzer:Data loaded and preprocessed. Shape: (69973, 56)\n",
      "INFO:sensitivity_analyzer:Defined 8 subgroups for sensitivity analysis\n",
      "INFO:sensitivity_analyzer:Subgroup comorbidity_1 size: 3238\n",
      "INFO:data_preprocessor:Splitting data into train/validation/test sets...\n",
      "INFO:data_preprocessor:Dropping unused ID and target columns before splitting: ['encounter_id', 'patient_nbr', 'discharge_disposition_id', 'readmitted']\n",
      "INFO:data_preprocessor:Data split - Train: (2072, 51), Val: (518, 51), Test: (648, 51)\n",
      "INFO:data_preprocessor:Encoding categorical features using label encoding...\n",
      "INFO:data_preprocessor:Scaling numerical features...\n",
      "INFO:data_preprocessor:Applying SMOTE for class balancing...\n",
      "INFO:data_preprocessor:Before SMOTE - Class distribution: {0: 1956, 1: 116}\n",
      "INFO:data_preprocessor:After SMOTE - Class distribution: {0: 1956, 1: 1956}\n",
      "INFO:feature_selector:Running all feature selection methods with top_n=15...\n",
      "INFO:feature_selector:Selecting top 15 features using L1 regularization...\n",
      "INFO:feature_selector:L1 feature selection completed. Selected features: ['number_diagnoses', 'diabetesMed', 'diag_3', 'insulin', 'repaglinide', 'nateglinide', 'rosiglitazone', 'chlorpropamide', 'gender', 'acarbose', 'number_outpatient', 'number_inpatient', 'num_medications', 'discharge_disposition_desc', 'glipizide']\n",
      "INFO:feature_selector:Selecting top 15 features using Mutual Information...\n",
      "INFO:feature_selector:Mutual Information feature selection completed. Selected features: ['num_lab_procedures', 'num_medications', 'age_group', 'age', 'age_midpoint', 'time_in_hospital', 'medical_specialty', 'diag_1_category', 'diag_1', 'admission_type_desc', 'payer_code', 'num_procedures', 'admission_source_desc', 'insulin', 'diag_2']\n",
      "INFO:feature_selector:Selecting top 15 features using Tree-based importance...\n",
      "INFO:feature_selector:Tree-based feature selection completed. Selected features: ['admission_source_desc', 'time_in_hospital', 'payer_code', 'insulin', 'gender', 'diag_3', 'discharge_disposition_desc', 'age_midpoint', 'age', 'num_lab_procedures', 'age_group', 'admission_type_desc', 'num_procedures', 'medical_specialty', 'num_medications']\n",
      "INFO:feature_selector:All feature selection methods completed\n",
      "INFO:model_trainer:Training all models...\n",
      "INFO:model_trainer:Training LogisticRegression...\n",
      "INFO:model_trainer:LogisticRegression training completed - CV AUC: 0.601, CV F1: 0.578\n",
      "INFO:model_trainer:Saved probability histogram to outputs/proba_hist_LogisticRegression_default.png\n",
      "INFO:model_trainer:Training RandomForest...\n",
      "INFO:model_trainer:RandomForest training completed - CV AUC: 0.991, CV F1: 0.972\n",
      "INFO:model_trainer:Saved probability histogram to outputs/proba_hist_RandomForest_default.png\n",
      "INFO:model_trainer:Training XGBoost...\n",
      "INFO:model_trainer:XGBoost training completed - CV AUC: 0.988, CV F1: 0.967\n",
      "INFO:model_trainer:Saved probability histogram to outputs/proba_hist_XGBoost_default.png\n",
      "INFO:model_trainer:All models training completed\n",
      "INFO:model_trainer:Evaluating models on the test set...\n",
      "WARNING:model_trainer:No trained models available. Train models first.\n",
      "WARNING:model_trainer:No test results available. Run evaluate_on_test_set first.\n",
      "INFO:sensitivity_analyzer:Subgroup comorbidity_1 analysis completed successfully\n"
     ]
    },
    {
     "name": "stdout",
     "output_type": "stream",
     "text": [
      "✅ Analysis completed successfully!\n",
      "�� Data size: 3238 patients\n",
      "🏆 Best model: None\n",
      "\n",
      "📈 Test Results:\n"
     ]
    },
    {
     "data": {
      "text/html": [
       "<div>\n",
       "<style scoped>\n",
       "    .dataframe tbody tr th:only-of-type {\n",
       "        vertical-align: middle;\n",
       "    }\n",
       "\n",
       "    .dataframe tbody tr th {\n",
       "        vertical-align: top;\n",
       "    }\n",
       "\n",
       "    .dataframe thead th {\n",
       "        text-align: right;\n",
       "    }\n",
       "</style>\n",
       "<table border=\"1\" class=\"dataframe\">\n",
       "  <thead>\n",
       "    <tr style=\"text-align: right;\">\n",
       "      <th></th>\n",
       "    </tr>\n",
       "  </thead>\n",
       "  <tbody>\n",
       "  </tbody>\n",
       "</table>\n",
       "</div>"
      ],
      "text/plain": [
       "Empty DataFrame\n",
       "Columns: []\n",
       "Index: []"
      ]
     },
     "metadata": {},
     "output_type": "display_data"
    },
    {
     "name": "stdout",
     "output_type": "stream",
     "text": [
      "\n",
      "🔍 Selected Features:\n",
      "  L1: 15 features\n",
      "  MutualInfo: 15 features\n",
      "  TreeImportance: 15 features\n"
     ]
    }
   ],
   "source": [
    "# 分析合并症1子组\n",
    "print(\"=\" * 60)\n",
    "print(\"ANALYZING: Single Comorbidity (1)\")\n",
    "print(\"=\" * 60)\n",
    "\n",
    "result1 = analyzer.run_single_subgroup('comorbidity_1')\n",
    "\n",
    "# 显示结果\n",
    "if result1['status'] == 'success':\n",
    "    print(f\"✅ Analysis completed successfully!\")\n",
    "    print(f\"�� Data size: {result1['data_size']} patients\")\n",
    "    print(f\"🏆 Best model: {result1['best_model']}\")\n",
    "    \n",
    "    # 显示测试结果\n",
    "    print(\"\\n📈 Test Results:\")\n",
    "    display(result1['test_results'])\n",
    "    \n",
    "    # 显示选择的特征数量\n",
    "    print(\"\\n🔍 Selected Features:\")\n",
    "    for method, features in result1['selected_features'].items():\n",
    "        print(f\"  {method}: {len(features)} features\")\n",
    "    \n",
    "else:\n",
    "    print(f\"❌ Analysis failed: {result1['error']}\")"
   ]
  },
  {
   "cell_type": "markdown",
   "id": "eb2b3f14",
   "metadata": {},
   "source": [
    "Analyze two subgroups of comorbidities"
   ]
  },
  {
   "cell_type": "code",
   "execution_count": 4,
   "id": "674d78c4",
   "metadata": {},
   "outputs": [
    {
     "name": "stderr",
     "output_type": "stream",
     "text": [
      "INFO:sensitivity_analyzer:Running analysis for subgroup: comorbidity_2\n",
      "INFO:sensitivity_analyzer:Defined 8 subgroups for sensitivity analysis\n",
      "INFO:sensitivity_analyzer:Subgroup comorbidity_2 size: 66542\n",
      "INFO:data_preprocessor:Splitting data into train/validation/test sets...\n",
      "INFO:data_preprocessor:Dropping unused ID and target columns before splitting: ['encounter_id', 'patient_nbr', 'discharge_disposition_id', 'readmitted']\n",
      "INFO:data_preprocessor:Data split - Train: (42586, 51), Val: (10647, 51), Test: (13309, 51)\n",
      "INFO:data_preprocessor:Encoding categorical features using label encoding...\n"
     ]
    },
    {
     "name": "stdout",
     "output_type": "stream",
     "text": [
      "============================================================\n",
      "ANALYZING: Double Comorbidity (2)\n",
      "============================================================\n"
     ]
    },
    {
     "name": "stderr",
     "output_type": "stream",
     "text": [
      "INFO:data_preprocessor:Scaling numerical features...\n",
      "INFO:data_preprocessor:Applying SMOTE for class balancing...\n",
      "INFO:data_preprocessor:Before SMOTE - Class distribution: {0: 38688, 1: 3898}\n",
      "INFO:data_preprocessor:After SMOTE - Class distribution: {0: 38688, 1: 38688}\n",
      "INFO:feature_selector:Running all feature selection methods with top_n=15...\n",
      "INFO:feature_selector:Selecting top 15 features using L1 regularization...\n",
      "INFO:feature_selector:L1 feature selection completed. Selected features: ['number_inpatient', 'tolazamide', 'diabetesMed', 'age_group', 'num_procedures', 'diag_1_category', 'payer_code', 'number_diagnoses', 'time_in_hospital', 'metformin', 'discharge_disposition_desc', 'admission_source_desc', 'glipizide-metformin', 'number_outpatient', 'pioglitazone']\n",
      "INFO:feature_selector:Selecting top 15 features using Mutual Information...\n",
      "INFO:feature_selector:Mutual Information feature selection completed. Selected features: ['num_lab_procedures', 'num_medications', 'diag_2', 'diag_1', 'diag_3', 'time_in_hospital', 'num_procedures', 'diag_1_category', 'age_midpoint', 'age', 'age_group', 'number_diagnoses', 'diag_3_category', 'diag_2_category', 'medical_specialty']\n",
      "INFO:feature_selector:Selecting top 15 features using Tree-based importance...\n",
      "INFO:feature_selector:Tree-based feature selection completed. Selected features: ['discharge_disposition_desc', 'num_procedures', 'time_in_hospital', 'age', 'age_midpoint', 'admission_source_desc', 'age_group', 'diag_3_category', 'diag_3', 'admission_type_desc', 'number_diagnoses', 'diag_1', 'diag_2', 'number_inpatient', 'diag_2_category']\n",
      "INFO:feature_selector:All feature selection methods completed\n",
      "INFO:model_trainer:Training all models...\n",
      "INFO:model_trainer:Training LogisticRegression...\n",
      "INFO:model_trainer:LogisticRegression training completed - CV AUC: 0.585, CV F1: 0.568\n",
      "INFO:model_trainer:Saved probability histogram to outputs/proba_hist_LogisticRegression_default.png\n",
      "INFO:model_trainer:Training RandomForest...\n",
      "INFO:model_trainer:RandomForest training completed - CV AUC: 0.973, CV F1: 0.945\n",
      "INFO:model_trainer:Saved probability histogram to outputs/proba_hist_RandomForest_default.png\n",
      "INFO:model_trainer:Training XGBoost...\n",
      "INFO:model_trainer:XGBoost training completed - CV AUC: 0.960, CV F1: 0.945\n",
      "INFO:model_trainer:Saved probability histogram to outputs/proba_hist_XGBoost_default.png\n",
      "INFO:model_trainer:All models training completed\n",
      "INFO:model_trainer:Evaluating models on the test set...\n",
      "WARNING:model_trainer:No trained models available. Train models first.\n",
      "WARNING:model_trainer:No test results available. Run evaluate_on_test_set first.\n",
      "INFO:sensitivity_analyzer:Subgroup comorbidity_2 analysis completed successfully\n"
     ]
    },
    {
     "name": "stdout",
     "output_type": "stream",
     "text": [
      "✅ Analysis completed successfully!\n",
      "�� Data size: 66542 patients\n",
      "🏆 Best model: None\n",
      "\n",
      "📈 Test Results:\n"
     ]
    },
    {
     "data": {
      "text/html": [
       "<div>\n",
       "<style scoped>\n",
       "    .dataframe tbody tr th:only-of-type {\n",
       "        vertical-align: middle;\n",
       "    }\n",
       "\n",
       "    .dataframe tbody tr th {\n",
       "        vertical-align: top;\n",
       "    }\n",
       "\n",
       "    .dataframe thead th {\n",
       "        text-align: right;\n",
       "    }\n",
       "</style>\n",
       "<table border=\"1\" class=\"dataframe\">\n",
       "  <thead>\n",
       "    <tr style=\"text-align: right;\">\n",
       "      <th></th>\n",
       "    </tr>\n",
       "  </thead>\n",
       "  <tbody>\n",
       "  </tbody>\n",
       "</table>\n",
       "</div>"
      ],
      "text/plain": [
       "Empty DataFrame\n",
       "Columns: []\n",
       "Index: []"
      ]
     },
     "metadata": {},
     "output_type": "display_data"
    },
    {
     "name": "stdout",
     "output_type": "stream",
     "text": [
      "\n",
      "🔍 Selected Features:\n",
      "  L1: 15 features\n",
      "  MutualInfo: 15 features\n",
      "  TreeImportance: 15 features\n"
     ]
    }
   ],
   "source": [
    "# 分析合并症2子组\n",
    "print(\"=\" * 60)\n",
    "print(\"ANALYZING: Double Comorbidity (2)\")\n",
    "print(\"=\" * 60)\n",
    "\n",
    "result2 = analyzer.run_single_subgroup('comorbidity_2')\n",
    "\n",
    "# 显示结果\n",
    "if result2['status'] == 'success':\n",
    "    print(f\"✅ Analysis completed successfully!\")\n",
    "    print(f\"�� Data size: {result2['data_size']} patients\")\n",
    "    print(f\"🏆 Best model: {result2['best_model']}\")\n",
    "    \n",
    "    # 显示测试结果\n",
    "    print(\"\\n📈 Test Results:\")\n",
    "    display(result2['test_results'])\n",
    "    \n",
    "    # 显示选择的特征数量\n",
    "    print(\"\\n🔍 Selected Features:\")\n",
    "    for method, features in result2['selected_features'].items():\n",
    "        print(f\"  {method}: {len(features)} features\")\n",
    "    \n",
    "else:\n",
    "    print(f\"❌ Analysis failed: {result2['error']}\")"
   ]
  },
  {
   "cell_type": "markdown",
   "id": "b1581c25",
   "metadata": {},
   "source": [
    "Analysis of Subgroups for Diabetes diagnosis"
   ]
  },
  {
   "cell_type": "code",
   "execution_count": 5,
   "id": "06777f95",
   "metadata": {},
   "outputs": [
    {
     "name": "stderr",
     "output_type": "stream",
     "text": [
      "INFO:sensitivity_analyzer:Running analysis for subgroup: diabetes_diag_all\n",
      "INFO:sensitivity_analyzer:Defined 8 subgroups for sensitivity analysis\n"
     ]
    },
    {
     "name": "stdout",
     "output_type": "stream",
     "text": [
      "============================================================\n",
      "ANALYZING: Any Diabetes Diagnosis\n",
      "============================================================\n"
     ]
    },
    {
     "name": "stderr",
     "output_type": "stream",
     "text": [
      "INFO:sensitivity_analyzer:Subgroup diabetes_diag_all size: 27577\n",
      "INFO:data_preprocessor:Splitting data into train/validation/test sets...\n",
      "INFO:data_preprocessor:Dropping unused ID and target columns before splitting: ['encounter_id', 'patient_nbr', 'discharge_disposition_id', 'readmitted']\n",
      "INFO:data_preprocessor:Data split - Train: (17648, 51), Val: (4413, 51), Test: (5516, 51)\n",
      "INFO:data_preprocessor:Encoding categorical features using label encoding...\n",
      "INFO:data_preprocessor:Scaling numerical features...\n",
      "INFO:data_preprocessor:Applying SMOTE for class balancing...\n",
      "INFO:data_preprocessor:Before SMOTE - Class distribution: {0: 16134, 1: 1514}\n",
      "INFO:data_preprocessor:After SMOTE - Class distribution: {0: 16134, 1: 16134}\n",
      "INFO:feature_selector:Running all feature selection methods with top_n=15...\n",
      "INFO:feature_selector:Selecting top 15 features using L1 regularization...\n",
      "INFO:feature_selector:L1 feature selection completed. Selected features: ['number_inpatient', 'diag_1_category', 'age_group', 'number_diagnoses', 'time_in_hospital', 'tolazamide', 'discharge_disposition_desc', 'metformin', 'admission_source_desc', 'payer_code', 'glipizide', 'medical_specialty', 'num_medications', 'comorbidity', 'pioglitazone']\n",
      "INFO:feature_selector:Selecting top 15 features using Mutual Information...\n",
      "INFO:feature_selector:Mutual Information feature selection completed. Selected features: ['num_lab_procedures', 'num_medications', 'diag_1', 'time_in_hospital', 'diag_2', 'diag_3', 'number_diagnoses', 'age_group', 'age', 'age_midpoint', 'medical_specialty', 'num_procedures', 'diag_1_category', 'payer_code', 'discharge_disposition_desc']\n",
      "INFO:feature_selector:Selecting top 15 features using Tree-based importance...\n"
     ]
    },
    {
     "ename": "KeyboardInterrupt",
     "evalue": "",
     "output_type": "error",
     "traceback": [
      "\u001b[0;31m---------------------------------------------------------------------------\u001b[0m",
      "\u001b[0;31mKeyboardInterrupt\u001b[0m                         Traceback (most recent call last)",
      "Cell \u001b[0;32mIn[5], line 6\u001b[0m\n\u001b[1;32m      3\u001b[0m \u001b[38;5;28mprint\u001b[39m(\u001b[38;5;124m\"\u001b[39m\u001b[38;5;124mANALYZING: Any Diabetes Diagnosis\u001b[39m\u001b[38;5;124m\"\u001b[39m)\n\u001b[1;32m      4\u001b[0m \u001b[38;5;28mprint\u001b[39m(\u001b[38;5;124m\"\u001b[39m\u001b[38;5;124m=\u001b[39m\u001b[38;5;124m\"\u001b[39m \u001b[38;5;241m*\u001b[39m \u001b[38;5;241m60\u001b[39m)\n\u001b[0;32m----> 6\u001b[0m result3 \u001b[38;5;241m=\u001b[39m analyzer\u001b[38;5;241m.\u001b[39mrun_single_subgroup(\u001b[38;5;124m'\u001b[39m\u001b[38;5;124mdiabetes_diag_all\u001b[39m\u001b[38;5;124m'\u001b[39m)\n\u001b[1;32m      8\u001b[0m \u001b[38;5;66;03m# 显示结果\u001b[39;00m\n\u001b[1;32m      9\u001b[0m \u001b[38;5;28;01mif\u001b[39;00m result3[\u001b[38;5;124m'\u001b[39m\u001b[38;5;124mstatus\u001b[39m\u001b[38;5;124m'\u001b[39m] \u001b[38;5;241m==\u001b[39m \u001b[38;5;124m'\u001b[39m\u001b[38;5;124msuccess\u001b[39m\u001b[38;5;124m'\u001b[39m:\n",
      "File \u001b[0;32m~/Projects/rp0609/sensitivity_analyzer.py:242\u001b[0m, in \u001b[0;36mSensitivityAnalyzer.run_single_subgroup\u001b[0;34m(self, subgroup_name, custom_filter, save_results)\u001b[0m\n\u001b[1;32m    240\u001b[0m \u001b[38;5;66;03m# 特征选择\u001b[39;00m\n\u001b[1;32m    241\u001b[0m \u001b[38;5;28mself\u001b[39m\u001b[38;5;241m.\u001b[39mfeature_selector \u001b[38;5;241m=\u001b[39m FeatureSelector()\n\u001b[0;32m--> 242\u001b[0m selected_features \u001b[38;5;241m=\u001b[39m \u001b[38;5;28mself\u001b[39m\u001b[38;5;241m.\u001b[39mfeature_selector\u001b[38;5;241m.\u001b[39mselect_all_features(\n\u001b[1;32m    243\u001b[0m     X_train_balanced, y_train_balanced,\n\u001b[1;32m    244\u001b[0m     top_n\u001b[38;5;241m=\u001b[39m\u001b[38;5;28mself\u001b[39m\u001b[38;5;241m.\u001b[39mconfig[\u001b[38;5;124m'\u001b[39m\u001b[38;5;124mfeature_selection_top_n\u001b[39m\u001b[38;5;124m'\u001b[39m]\n\u001b[1;32m    245\u001b[0m )\n\u001b[1;32m    247\u001b[0m \u001b[38;5;66;03m# 模型训练\u001b[39;00m\n\u001b[1;32m    248\u001b[0m \u001b[38;5;28mself\u001b[39m\u001b[38;5;241m.\u001b[39mmodel_trainer \u001b[38;5;241m=\u001b[39m ModelTrainer(random_state\u001b[38;5;241m=\u001b[39m\u001b[38;5;28mself\u001b[39m\u001b[38;5;241m.\u001b[39mconfig[\u001b[38;5;124m'\u001b[39m\u001b[38;5;124mrandom_state\u001b[39m\u001b[38;5;124m'\u001b[39m])\n",
      "File \u001b[0;32m~/Projects/rp0609/feature_selector.py:179\u001b[0m, in \u001b[0;36mFeatureSelector.select_all_features\u001b[0;34m(self, X, y, top_n)\u001b[0m\n\u001b[1;32m    177\u001b[0m \u001b[38;5;28;01mfor\u001b[39;00m method_name, selector_func \u001b[38;5;129;01min\u001b[39;00m selectors\u001b[38;5;241m.\u001b[39mitems():\n\u001b[1;32m    178\u001b[0m     \u001b[38;5;28;01mtry\u001b[39;00m:\n\u001b[0;32m--> 179\u001b[0m         selected_features[method_name] \u001b[38;5;241m=\u001b[39m selector_func(X, y, top_n)\n\u001b[1;32m    180\u001b[0m         \u001b[38;5;28mself\u001b[39m\u001b[38;5;241m.\u001b[39mselected_features[method_name] \u001b[38;5;241m=\u001b[39m selected_features[method_name]\n\u001b[1;32m    181\u001b[0m     \u001b[38;5;28;01mexcept\u001b[39;00m \u001b[38;5;167;01mException\u001b[39;00m \u001b[38;5;28;01mas\u001b[39;00m e:\n",
      "File \u001b[0;32m~/Projects/rp0609/feature_selector.py:92\u001b[0m, in \u001b[0;36mFeatureSelector.select_features_by_tree\u001b[0;34m(self, X, y, top_n)\u001b[0m\n\u001b[1;32m     89\u001b[0m logger\u001b[38;5;241m.\u001b[39minfo(\u001b[38;5;124mf\u001b[39m\u001b[38;5;124m\"\u001b[39m\u001b[38;5;124mSelecting top \u001b[39m\u001b[38;5;132;01m{\u001b[39;00mtop_n\u001b[38;5;132;01m}\u001b[39;00m\u001b[38;5;124m features using Tree-based importance...\u001b[39m\u001b[38;5;124m\"\u001b[39m)\n\u001b[1;32m     91\u001b[0m clf \u001b[38;5;241m=\u001b[39m RandomForestClassifier(n_estimators\u001b[38;5;241m=\u001b[39m\u001b[38;5;241m100\u001b[39m, random_state\u001b[38;5;241m=\u001b[39m\u001b[38;5;241m42\u001b[39m)\n\u001b[0;32m---> 92\u001b[0m clf\u001b[38;5;241m.\u001b[39mfit(X, y)\n\u001b[1;32m     94\u001b[0m importances \u001b[38;5;241m=\u001b[39m clf\u001b[38;5;241m.\u001b[39mfeature_importances_\n\u001b[1;32m     95\u001b[0m feature_ranking \u001b[38;5;241m=\u001b[39m pd\u001b[38;5;241m.\u001b[39mSeries(importances, index\u001b[38;5;241m=\u001b[39mX\u001b[38;5;241m.\u001b[39mcolumns)\u001b[38;5;241m.\u001b[39msort_values(ascending\u001b[38;5;241m=\u001b[39m\u001b[38;5;28;01mFalse\u001b[39;00m)\n",
      "File \u001b[0;32m/opt/anaconda3/envs/PPHR/lib/python3.12/site-packages/sklearn/base.py:1473\u001b[0m, in \u001b[0;36m_fit_context.<locals>.decorator.<locals>.wrapper\u001b[0;34m(estimator, *args, **kwargs)\u001b[0m\n\u001b[1;32m   1466\u001b[0m     estimator\u001b[38;5;241m.\u001b[39m_validate_params()\n\u001b[1;32m   1468\u001b[0m \u001b[38;5;28;01mwith\u001b[39;00m config_context(\n\u001b[1;32m   1469\u001b[0m     skip_parameter_validation\u001b[38;5;241m=\u001b[39m(\n\u001b[1;32m   1470\u001b[0m         prefer_skip_nested_validation \u001b[38;5;129;01mor\u001b[39;00m global_skip_validation\n\u001b[1;32m   1471\u001b[0m     )\n\u001b[1;32m   1472\u001b[0m ):\n\u001b[0;32m-> 1473\u001b[0m     \u001b[38;5;28;01mreturn\u001b[39;00m fit_method(estimator, \u001b[38;5;241m*\u001b[39margs, \u001b[38;5;241m*\u001b[39m\u001b[38;5;241m*\u001b[39mkwargs)\n",
      "File \u001b[0;32m/opt/anaconda3/envs/PPHR/lib/python3.12/site-packages/sklearn/ensemble/_forest.py:489\u001b[0m, in \u001b[0;36mBaseForest.fit\u001b[0;34m(self, X, y, sample_weight)\u001b[0m\n\u001b[1;32m    478\u001b[0m trees \u001b[38;5;241m=\u001b[39m [\n\u001b[1;32m    479\u001b[0m     \u001b[38;5;28mself\u001b[39m\u001b[38;5;241m.\u001b[39m_make_estimator(append\u001b[38;5;241m=\u001b[39m\u001b[38;5;28;01mFalse\u001b[39;00m, random_state\u001b[38;5;241m=\u001b[39mrandom_state)\n\u001b[1;32m    480\u001b[0m     \u001b[38;5;28;01mfor\u001b[39;00m i \u001b[38;5;129;01min\u001b[39;00m \u001b[38;5;28mrange\u001b[39m(n_more_estimators)\n\u001b[1;32m    481\u001b[0m ]\n\u001b[1;32m    483\u001b[0m \u001b[38;5;66;03m# Parallel loop: we prefer the threading backend as the Cython code\u001b[39;00m\n\u001b[1;32m    484\u001b[0m \u001b[38;5;66;03m# for fitting the trees is internally releasing the Python GIL\u001b[39;00m\n\u001b[1;32m    485\u001b[0m \u001b[38;5;66;03m# making threading more efficient than multiprocessing in\u001b[39;00m\n\u001b[1;32m    486\u001b[0m \u001b[38;5;66;03m# that case. However, for joblib 0.12+ we respect any\u001b[39;00m\n\u001b[1;32m    487\u001b[0m \u001b[38;5;66;03m# parallel_backend contexts set at a higher level,\u001b[39;00m\n\u001b[1;32m    488\u001b[0m \u001b[38;5;66;03m# since correctness does not rely on using threads.\u001b[39;00m\n\u001b[0;32m--> 489\u001b[0m trees \u001b[38;5;241m=\u001b[39m Parallel(\n\u001b[1;32m    490\u001b[0m     n_jobs\u001b[38;5;241m=\u001b[39m\u001b[38;5;28mself\u001b[39m\u001b[38;5;241m.\u001b[39mn_jobs,\n\u001b[1;32m    491\u001b[0m     verbose\u001b[38;5;241m=\u001b[39m\u001b[38;5;28mself\u001b[39m\u001b[38;5;241m.\u001b[39mverbose,\n\u001b[1;32m    492\u001b[0m     prefer\u001b[38;5;241m=\u001b[39m\u001b[38;5;124m\"\u001b[39m\u001b[38;5;124mthreads\u001b[39m\u001b[38;5;124m\"\u001b[39m,\n\u001b[1;32m    493\u001b[0m )(\n\u001b[1;32m    494\u001b[0m     delayed(_parallel_build_trees)(\n\u001b[1;32m    495\u001b[0m         t,\n\u001b[1;32m    496\u001b[0m         \u001b[38;5;28mself\u001b[39m\u001b[38;5;241m.\u001b[39mbootstrap,\n\u001b[1;32m    497\u001b[0m         X,\n\u001b[1;32m    498\u001b[0m         y,\n\u001b[1;32m    499\u001b[0m         sample_weight,\n\u001b[1;32m    500\u001b[0m         i,\n\u001b[1;32m    501\u001b[0m         \u001b[38;5;28mlen\u001b[39m(trees),\n\u001b[1;32m    502\u001b[0m         verbose\u001b[38;5;241m=\u001b[39m\u001b[38;5;28mself\u001b[39m\u001b[38;5;241m.\u001b[39mverbose,\n\u001b[1;32m    503\u001b[0m         class_weight\u001b[38;5;241m=\u001b[39m\u001b[38;5;28mself\u001b[39m\u001b[38;5;241m.\u001b[39mclass_weight,\n\u001b[1;32m    504\u001b[0m         n_samples_bootstrap\u001b[38;5;241m=\u001b[39mn_samples_bootstrap,\n\u001b[1;32m    505\u001b[0m         missing_values_in_feature_mask\u001b[38;5;241m=\u001b[39mmissing_values_in_feature_mask,\n\u001b[1;32m    506\u001b[0m     )\n\u001b[1;32m    507\u001b[0m     \u001b[38;5;28;01mfor\u001b[39;00m i, t \u001b[38;5;129;01min\u001b[39;00m \u001b[38;5;28menumerate\u001b[39m(trees)\n\u001b[1;32m    508\u001b[0m )\n\u001b[1;32m    510\u001b[0m \u001b[38;5;66;03m# Collect newly grown trees\u001b[39;00m\n\u001b[1;32m    511\u001b[0m \u001b[38;5;28mself\u001b[39m\u001b[38;5;241m.\u001b[39mestimators_\u001b[38;5;241m.\u001b[39mextend(trees)\n",
      "File \u001b[0;32m/opt/anaconda3/envs/PPHR/lib/python3.12/site-packages/sklearn/utils/parallel.py:74\u001b[0m, in \u001b[0;36mParallel.__call__\u001b[0;34m(self, iterable)\u001b[0m\n\u001b[1;32m     69\u001b[0m config \u001b[38;5;241m=\u001b[39m get_config()\n\u001b[1;32m     70\u001b[0m iterable_with_config \u001b[38;5;241m=\u001b[39m (\n\u001b[1;32m     71\u001b[0m     (_with_config(delayed_func, config), args, kwargs)\n\u001b[1;32m     72\u001b[0m     \u001b[38;5;28;01mfor\u001b[39;00m delayed_func, args, kwargs \u001b[38;5;129;01min\u001b[39;00m iterable\n\u001b[1;32m     73\u001b[0m )\n\u001b[0;32m---> 74\u001b[0m \u001b[38;5;28;01mreturn\u001b[39;00m \u001b[38;5;28msuper\u001b[39m()\u001b[38;5;241m.\u001b[39m\u001b[38;5;21m__call__\u001b[39m(iterable_with_config)\n",
      "File \u001b[0;32m/opt/anaconda3/envs/PPHR/lib/python3.12/site-packages/joblib/parallel.py:1918\u001b[0m, in \u001b[0;36mParallel.__call__\u001b[0;34m(self, iterable)\u001b[0m\n\u001b[1;32m   1916\u001b[0m     output \u001b[38;5;241m=\u001b[39m \u001b[38;5;28mself\u001b[39m\u001b[38;5;241m.\u001b[39m_get_sequential_output(iterable)\n\u001b[1;32m   1917\u001b[0m     \u001b[38;5;28mnext\u001b[39m(output)\n\u001b[0;32m-> 1918\u001b[0m     \u001b[38;5;28;01mreturn\u001b[39;00m output \u001b[38;5;28;01mif\u001b[39;00m \u001b[38;5;28mself\u001b[39m\u001b[38;5;241m.\u001b[39mreturn_generator \u001b[38;5;28;01melse\u001b[39;00m \u001b[38;5;28mlist\u001b[39m(output)\n\u001b[1;32m   1920\u001b[0m \u001b[38;5;66;03m# Let's create an ID that uniquely identifies the current call. If the\u001b[39;00m\n\u001b[1;32m   1921\u001b[0m \u001b[38;5;66;03m# call is interrupted early and that the same instance is immediately\u001b[39;00m\n\u001b[1;32m   1922\u001b[0m \u001b[38;5;66;03m# re-used, this id will be used to prevent workers that were\u001b[39;00m\n\u001b[1;32m   1923\u001b[0m \u001b[38;5;66;03m# concurrently finalizing a task from the previous call to run the\u001b[39;00m\n\u001b[1;32m   1924\u001b[0m \u001b[38;5;66;03m# callback.\u001b[39;00m\n\u001b[1;32m   1925\u001b[0m \u001b[38;5;28;01mwith\u001b[39;00m \u001b[38;5;28mself\u001b[39m\u001b[38;5;241m.\u001b[39m_lock:\n",
      "File \u001b[0;32m/opt/anaconda3/envs/PPHR/lib/python3.12/site-packages/joblib/parallel.py:1847\u001b[0m, in \u001b[0;36mParallel._get_sequential_output\u001b[0;34m(self, iterable)\u001b[0m\n\u001b[1;32m   1845\u001b[0m \u001b[38;5;28mself\u001b[39m\u001b[38;5;241m.\u001b[39mn_dispatched_batches \u001b[38;5;241m+\u001b[39m\u001b[38;5;241m=\u001b[39m \u001b[38;5;241m1\u001b[39m\n\u001b[1;32m   1846\u001b[0m \u001b[38;5;28mself\u001b[39m\u001b[38;5;241m.\u001b[39mn_dispatched_tasks \u001b[38;5;241m+\u001b[39m\u001b[38;5;241m=\u001b[39m \u001b[38;5;241m1\u001b[39m\n\u001b[0;32m-> 1847\u001b[0m res \u001b[38;5;241m=\u001b[39m func(\u001b[38;5;241m*\u001b[39margs, \u001b[38;5;241m*\u001b[39m\u001b[38;5;241m*\u001b[39mkwargs)\n\u001b[1;32m   1848\u001b[0m \u001b[38;5;28mself\u001b[39m\u001b[38;5;241m.\u001b[39mn_completed_tasks \u001b[38;5;241m+\u001b[39m\u001b[38;5;241m=\u001b[39m \u001b[38;5;241m1\u001b[39m\n\u001b[1;32m   1849\u001b[0m \u001b[38;5;28mself\u001b[39m\u001b[38;5;241m.\u001b[39mprint_progress()\n",
      "File \u001b[0;32m/opt/anaconda3/envs/PPHR/lib/python3.12/site-packages/sklearn/utils/parallel.py:136\u001b[0m, in \u001b[0;36m_FuncWrapper.__call__\u001b[0;34m(self, *args, **kwargs)\u001b[0m\n\u001b[1;32m    134\u001b[0m     config \u001b[38;5;241m=\u001b[39m {}\n\u001b[1;32m    135\u001b[0m \u001b[38;5;28;01mwith\u001b[39;00m config_context(\u001b[38;5;241m*\u001b[39m\u001b[38;5;241m*\u001b[39mconfig):\n\u001b[0;32m--> 136\u001b[0m     \u001b[38;5;28;01mreturn\u001b[39;00m \u001b[38;5;28mself\u001b[39m\u001b[38;5;241m.\u001b[39mfunction(\u001b[38;5;241m*\u001b[39margs, \u001b[38;5;241m*\u001b[39m\u001b[38;5;241m*\u001b[39mkwargs)\n",
      "File \u001b[0;32m/opt/anaconda3/envs/PPHR/lib/python3.12/site-packages/sklearn/ensemble/_forest.py:192\u001b[0m, in \u001b[0;36m_parallel_build_trees\u001b[0;34m(tree, bootstrap, X, y, sample_weight, tree_idx, n_trees, verbose, class_weight, n_samples_bootstrap, missing_values_in_feature_mask)\u001b[0m\n\u001b[1;32m    189\u001b[0m     \u001b[38;5;28;01melif\u001b[39;00m class_weight \u001b[38;5;241m==\u001b[39m \u001b[38;5;124m\"\u001b[39m\u001b[38;5;124mbalanced_subsample\u001b[39m\u001b[38;5;124m\"\u001b[39m:\n\u001b[1;32m    190\u001b[0m         curr_sample_weight \u001b[38;5;241m*\u001b[39m\u001b[38;5;241m=\u001b[39m compute_sample_weight(\u001b[38;5;124m\"\u001b[39m\u001b[38;5;124mbalanced\u001b[39m\u001b[38;5;124m\"\u001b[39m, y, indices\u001b[38;5;241m=\u001b[39mindices)\n\u001b[0;32m--> 192\u001b[0m     tree\u001b[38;5;241m.\u001b[39m_fit(\n\u001b[1;32m    193\u001b[0m         X,\n\u001b[1;32m    194\u001b[0m         y,\n\u001b[1;32m    195\u001b[0m         sample_weight\u001b[38;5;241m=\u001b[39mcurr_sample_weight,\n\u001b[1;32m    196\u001b[0m         check_input\u001b[38;5;241m=\u001b[39m\u001b[38;5;28;01mFalse\u001b[39;00m,\n\u001b[1;32m    197\u001b[0m         missing_values_in_feature_mask\u001b[38;5;241m=\u001b[39mmissing_values_in_feature_mask,\n\u001b[1;32m    198\u001b[0m     )\n\u001b[1;32m    199\u001b[0m \u001b[38;5;28;01melse\u001b[39;00m:\n\u001b[1;32m    200\u001b[0m     tree\u001b[38;5;241m.\u001b[39m_fit(\n\u001b[1;32m    201\u001b[0m         X,\n\u001b[1;32m    202\u001b[0m         y,\n\u001b[0;32m   (...)\u001b[0m\n\u001b[1;32m    205\u001b[0m         missing_values_in_feature_mask\u001b[38;5;241m=\u001b[39mmissing_values_in_feature_mask,\n\u001b[1;32m    206\u001b[0m     )\n",
      "File \u001b[0;32m/opt/anaconda3/envs/PPHR/lib/python3.12/site-packages/sklearn/tree/_classes.py:472\u001b[0m, in \u001b[0;36mBaseDecisionTree._fit\u001b[0;34m(self, X, y, sample_weight, check_input, missing_values_in_feature_mask)\u001b[0m\n\u001b[1;32m    461\u001b[0m \u001b[38;5;28;01melse\u001b[39;00m:\n\u001b[1;32m    462\u001b[0m     builder \u001b[38;5;241m=\u001b[39m BestFirstTreeBuilder(\n\u001b[1;32m    463\u001b[0m         splitter,\n\u001b[1;32m    464\u001b[0m         min_samples_split,\n\u001b[0;32m   (...)\u001b[0m\n\u001b[1;32m    469\u001b[0m         \u001b[38;5;28mself\u001b[39m\u001b[38;5;241m.\u001b[39mmin_impurity_decrease,\n\u001b[1;32m    470\u001b[0m     )\n\u001b[0;32m--> 472\u001b[0m builder\u001b[38;5;241m.\u001b[39mbuild(\u001b[38;5;28mself\u001b[39m\u001b[38;5;241m.\u001b[39mtree_, X, y, sample_weight, missing_values_in_feature_mask)\n\u001b[1;32m    474\u001b[0m \u001b[38;5;28;01mif\u001b[39;00m \u001b[38;5;28mself\u001b[39m\u001b[38;5;241m.\u001b[39mn_outputs_ \u001b[38;5;241m==\u001b[39m \u001b[38;5;241m1\u001b[39m \u001b[38;5;129;01mand\u001b[39;00m is_classifier(\u001b[38;5;28mself\u001b[39m):\n\u001b[1;32m    475\u001b[0m     \u001b[38;5;28mself\u001b[39m\u001b[38;5;241m.\u001b[39mn_classes_ \u001b[38;5;241m=\u001b[39m \u001b[38;5;28mself\u001b[39m\u001b[38;5;241m.\u001b[39mn_classes_[\u001b[38;5;241m0\u001b[39m]\n",
      "\u001b[0;31mKeyboardInterrupt\u001b[0m: "
     ]
    }
   ],
   "source": [
    "# 分析糖尿病诊断子组\n",
    "print(\"=\" * 60)\n",
    "print(\"ANALYZING: Any Diabetes Diagnosis\")\n",
    "print(\"=\" * 60)\n",
    "\n",
    "result3 = analyzer.run_single_subgroup('diabetes_diag_all')\n",
    "\n",
    "# 显示结果\n",
    "if result3['status'] == 'success':\n",
    "    print(f\"✅ Analysis completed successfully!\")\n",
    "    print(f\"�� Data size: {result3['data_size']} patients\")\n",
    "    print(f\"🏆 Best model: {result3['best_model']}\")\n",
    "    \n",
    "    # 显示测试结果\n",
    "    print(\"\\n📈 Test Results:\")\n",
    "    display(result3['test_results'])\n",
    "    \n",
    "    # 显示选择的特征数量\n",
    "    print(\"\\n🔍 Selected Features:\")\n",
    "    for method, features in result3['selected_features'].items():\n",
    "        print(f\"  {method}: {len(features)} features\")\n",
    "    \n",
    "else:\n",
    "    print(f\"❌ Analysis failed: {result3['error']}\")"
   ]
  },
  {
   "cell_type": "markdown",
   "id": "95b9dd32",
   "metadata": {},
   "source": [
    "Analysis of the main diagnosed diabetes subgroup"
   ]
  },
  {
   "cell_type": "code",
   "execution_count": null,
   "id": "8124e3b6",
   "metadata": {},
   "outputs": [
    {
     "name": "stderr",
     "output_type": "stream",
     "text": [
      "INFO:sensitivity_analyzer:Running analysis for subgroup: diabetes_diag1\n",
      "INFO:sensitivity_analyzer:Defined 8 subgroups for sensitivity analysis\n",
      "INFO:sensitivity_analyzer:Subgroup diabetes_diag1 size: 5748\n",
      "INFO:data_preprocessor:Splitting data into train/validation/test sets...\n",
      "INFO:data_preprocessor:Dropping unused ID and target columns before splitting: ['encounter_id', 'patient_nbr', 'discharge_disposition_id', 'readmitted']\n",
      "INFO:data_preprocessor:Data split - Train: (3678, 51), Val: (920, 51), Test: (1150, 51)\n",
      "INFO:data_preprocessor:Encoding categorical features using label encoding...\n"
     ]
    },
    {
     "name": "stdout",
     "output_type": "stream",
     "text": [
      "============================================================\n",
      "ANALYZING: Primary Diabetes Diagnosis\n",
      "============================================================\n"
     ]
    },
    {
     "name": "stderr",
     "output_type": "stream",
     "text": [
      "INFO:data_preprocessor:Scaling numerical features...\n",
      "INFO:data_preprocessor:Applying SMOTE for class balancing...\n",
      "INFO:data_preprocessor:Before SMOTE - Class distribution: {0: 3343, 1: 335}\n",
      "INFO:data_preprocessor:After SMOTE - Class distribution: {0: 3343, 1: 3343}\n",
      "INFO:feature_selector:Running all feature selection methods with top_n=15...\n",
      "INFO:feature_selector:Selecting top 15 features using L1 regularization...\n",
      "INFO:feature_selector:L1 feature selection completed. Selected features: ['number_inpatient', 'num_medications', 'diag_1', 'number_diagnoses', 'time_in_hospital', 'payer_code', 'glipizide', 'diag_2', 'change', 'metformin', 'number_outpatient', 'num_procedures', 'admission_type_desc', 'comorbidity', 'diag_2_category']\n",
      "INFO:feature_selector:Selecting top 15 features using Mutual Information...\n",
      "INFO:feature_selector:Mutual Information feature selection completed. Selected features: ['num_medications', 'num_lab_procedures', 'time_in_hospital', 'diag_1', 'age_midpoint', 'age_group', 'age', 'diag_3', 'number_diagnoses', 'diag_2', 'payer_code', 'medical_specialty', 'diag_3_category', 'num_procedures', 'diag_2_category']\n",
      "INFO:feature_selector:Selecting top 15 features using Tree-based importance...\n",
      "INFO:feature_selector:Tree-based feature selection completed. Selected features: ['number_inpatient', 'discharge_disposition_desc', 'number_diagnoses', 'diag_1', 'num_procedures', 'diag_3', 'time_in_hospital', 'age_group', 'age_midpoint', 'age', 'diag_2', 'num_medications', 'race', 'num_lab_procedures', 'diag_2_category']\n",
      "INFO:feature_selector:All feature selection methods completed\n",
      "INFO:model_trainer:Training all models...\n",
      "INFO:model_trainer:Training LogisticRegression...\n",
      "INFO:model_trainer:LogisticRegression training completed - CV AUC: 0.664, CV F1: 0.628\n",
      "INFO:model_trainer:Saved probability histogram to outputs/proba_hist_LogisticRegression_default.png\n",
      "INFO:model_trainer:Training RandomForest...\n",
      "INFO:model_trainer:RandomForest training completed - CV AUC: 0.984, CV F1: 0.950\n",
      "INFO:model_trainer:Saved probability histogram to outputs/proba_hist_RandomForest_default.png\n",
      "INFO:model_trainer:Training XGBoost...\n",
      "INFO:model_trainer:XGBoost training completed - CV AUC: 0.971, CV F1: 0.945\n",
      "INFO:model_trainer:Saved probability histogram to outputs/proba_hist_XGBoost_default.png\n",
      "INFO:model_trainer:All models training completed\n",
      "INFO:model_trainer:Evaluating models on the test set...\n",
      "WARNING:model_trainer:No trained models available. Train models first.\n",
      "WARNING:model_trainer:No test results available. Run evaluate_on_test_set first.\n",
      "ERROR:sensitivity_analyzer:Error in subgroup diabetes_diag1 analysis: 'FeatureSelector' object has no attribute 'get_feature_importance'\n"
     ]
    },
    {
     "name": "stdout",
     "output_type": "stream",
     "text": [
      "❌ Analysis failed: 'FeatureSelector' object has no attribute 'get_feature_importance'\n"
     ]
    }
   ],
   "source": [
    "# 分析主诊断糖尿病子组\n",
    "print(\"=\" * 60)\n",
    "print(\"ANALYZING: Primary Diabetes Diagnosis\")\n",
    "print(\"=\" * 60)\n",
    "\n",
    "result4 = analyzer.run_single_subgroup('diabetes_diag1')\n",
    "\n",
    "# 显示结果\n",
    "if result4['status'] == 'success':\n",
    "    print(f\"✅ Analysis completed successfully!\")\n",
    "    print(f\"�� Data size: {result4['data_size']} patients\")\n",
    "    print(f\"🏆 Best model: {result4['best_model']}\")\n",
    "    \n",
    "    # 显示测试结果\n",
    "    print(\"\\n📈 Test Results:\")\n",
    "    display(result4['test_results'])\n",
    "    \n",
    "    # 显示选择的特征数量\n",
    "    print(\"\\n🔍 Selected Features:\")\n",
    "    for method, features in result4['selected_features'].items():\n",
    "        print(f\"  {method}: {len(features)} features\")\n",
    "    \n",
    "else:\n",
    "    print(f\"❌ Analysis failed: {result4['error']}\")"
   ]
  },
  {
   "cell_type": "markdown",
   "id": "429ef5e7",
   "metadata": {},
   "source": [
    "Compare the results of all subgroups"
   ]
  },
  {
   "cell_type": "code",
   "execution_count": null,
   "id": "52d7d9ae",
   "metadata": {},
   "outputs": [
    {
     "name": "stdout",
     "output_type": "stream",
     "text": [
      "============================================================\n",
      "COMPARING ALL SUBGROUPS\n",
      "============================================================\n",
      "❌ Need at least 2 successful analyses to compare\n"
     ]
    }
   ],
   "source": [
    "# 比较所有已分析的子组\n",
    "print(\"=\" * 60)\n",
    "print(\"COMPARING ALL SUBGROUPS\")\n",
    "print(\"=\" * 60)\n",
    "\n",
    "# 获取所有已完成的子组\n",
    "completed_subgroups = [name for name, result in analyzer.subgroup_results.items() \n",
    "                      if result['status'] == 'success']\n",
    "\n",
    "if len(completed_subgroups) >= 2:\n",
    "    comparison = analyzer.compare_subgroups(completed_subgroups)\n",
    "    \n",
    "    print(f\"📊 Comparing {len(completed_subgroups)} subgroups:\")\n",
    "    for subgroup in completed_subgroups:\n",
    "        print(f\"  - {subgroup}\")\n",
    "    \n",
    "    print(\"\\n📈 Comparison Report:\")\n",
    "    display(comparison['comparison_report'])\n",
    "    \n",
    "    # 显示统计摘要\n",
    "    comparison_df = comparison['comparison_report']\n",
    "    print(\"\\n�� Summary Statistics:\")\n",
    "    print(f\"  Best AUC: {comparison_df['AUC'].max():.4f}\")\n",
    "    print(f\"  Average AUC: {comparison_df['AUC'].mean():.4f}\")\n",
    "    print(f\"  AUC Standard Deviation: {comparison_df['AUC'].std():.4f}\")\n",
    "    \n",
    "else:\n",
    "    print(\"❌ Need at least 2 successful analyses to compare\")"
   ]
  },
  {
   "cell_type": "code",
   "execution_count": null,
   "id": "4973319b",
   "metadata": {},
   "outputs": [
    {
     "name": "stderr",
     "output_type": "stream",
     "text": [
      "INFO:sensitivity_analyzer:Running analysis for subgroup: custom_female_elderly\n"
     ]
    },
    {
     "name": "stdout",
     "output_type": "stream",
     "text": [
      "============================================================\n",
      "ANALYZING: Custom Subgroup (Female Elderly Patients)\n",
      "============================================================\n"
     ]
    },
    {
     "ename": "TypeError",
     "evalue": "'>=' not supported between instances of 'str' and 'int'",
     "output_type": "error",
     "traceback": [
      "\u001b[0;31m---------------------------------------------------------------------------\u001b[0m",
      "\u001b[0;31mTypeError\u001b[0m                                 Traceback (most recent call last)",
      "Cell \u001b[0;32mIn[8], line 11\u001b[0m\n\u001b[1;32m      8\u001b[0m     \u001b[38;5;28;01mreturn\u001b[39;00m (df[\u001b[38;5;124m'\u001b[39m\u001b[38;5;124mgender\u001b[39m\u001b[38;5;124m'\u001b[39m] \u001b[38;5;241m==\u001b[39m \u001b[38;5;124m'\u001b[39m\u001b[38;5;124mFemale\u001b[39m\u001b[38;5;124m'\u001b[39m) \u001b[38;5;241m&\u001b[39m (df[\u001b[38;5;124m'\u001b[39m\u001b[38;5;124mage\u001b[39m\u001b[38;5;124m'\u001b[39m] \u001b[38;5;241m>\u001b[39m\u001b[38;5;241m=\u001b[39m \u001b[38;5;241m70\u001b[39m)\n\u001b[1;32m     10\u001b[0m \u001b[38;5;66;03m# 运行分析\u001b[39;00m\n\u001b[0;32m---> 11\u001b[0m custom_result \u001b[38;5;241m=\u001b[39m analyzer\u001b[38;5;241m.\u001b[39mrun_single_subgroup(\n\u001b[1;32m     12\u001b[0m     \u001b[38;5;124m'\u001b[39m\u001b[38;5;124mcustom_female_elderly\u001b[39m\u001b[38;5;124m'\u001b[39m, \n\u001b[1;32m     13\u001b[0m     custom_filter\u001b[38;5;241m=\u001b[39mfemale_elderly_filter\n\u001b[1;32m     14\u001b[0m )\n\u001b[1;32m     16\u001b[0m \u001b[38;5;66;03m# 显示结果\u001b[39;00m\n\u001b[1;32m     17\u001b[0m \u001b[38;5;28;01mif\u001b[39;00m custom_result[\u001b[38;5;124m'\u001b[39m\u001b[38;5;124mstatus\u001b[39m\u001b[38;5;124m'\u001b[39m] \u001b[38;5;241m==\u001b[39m \u001b[38;5;124m'\u001b[39m\u001b[38;5;124msuccess\u001b[39m\u001b[38;5;124m'\u001b[39m:\n",
      "File \u001b[0;32m~/Projects/rp0609/sensitivity_analyzer.py:200\u001b[0m, in \u001b[0;36mSensitivityAnalyzer.run_single_subgroup\u001b[0;34m(self, subgroup_name, custom_filter, save_results)\u001b[0m\n\u001b[1;32m    197\u001b[0m \u001b[38;5;66;03m# 获取子组数据\u001b[39;00m\n\u001b[1;32m    198\u001b[0m \u001b[38;5;28;01mif\u001b[39;00m custom_filter \u001b[38;5;129;01mis\u001b[39;00m \u001b[38;5;129;01mnot\u001b[39;00m \u001b[38;5;28;01mNone\u001b[39;00m:\n\u001b[1;32m    199\u001b[0m     \u001b[38;5;66;03m# 使用自定义筛选\u001b[39;00m\n\u001b[0;32m--> 200\u001b[0m     subgroup_mask \u001b[38;5;241m=\u001b[39m custom_filter(\u001b[38;5;28mself\u001b[39m\u001b[38;5;241m.\u001b[39mprocessed_data)\n\u001b[1;32m    201\u001b[0m     subgroup_data \u001b[38;5;241m=\u001b[39m \u001b[38;5;28mself\u001b[39m\u001b[38;5;241m.\u001b[39mprocessed_data[subgroup_mask]\u001b[38;5;241m.\u001b[39mcopy()\n\u001b[1;32m    202\u001b[0m \u001b[38;5;28;01melse\u001b[39;00m:\n\u001b[1;32m    203\u001b[0m     \u001b[38;5;66;03m# 使用预定义的子组\u001b[39;00m\n",
      "Cell \u001b[0;32mIn[8], line 8\u001b[0m, in \u001b[0;36mfemale_elderly_filter\u001b[0;34m(df)\u001b[0m\n\u001b[1;32m      7\u001b[0m \u001b[38;5;28;01mdef\u001b[39;00m \u001b[38;5;21mfemale_elderly_filter\u001b[39m(df):\n\u001b[0;32m----> 8\u001b[0m     \u001b[38;5;28;01mreturn\u001b[39;00m (df[\u001b[38;5;124m'\u001b[39m\u001b[38;5;124mgender\u001b[39m\u001b[38;5;124m'\u001b[39m] \u001b[38;5;241m==\u001b[39m \u001b[38;5;124m'\u001b[39m\u001b[38;5;124mFemale\u001b[39m\u001b[38;5;124m'\u001b[39m) \u001b[38;5;241m&\u001b[39m (df[\u001b[38;5;124m'\u001b[39m\u001b[38;5;124mage\u001b[39m\u001b[38;5;124m'\u001b[39m] \u001b[38;5;241m>\u001b[39m\u001b[38;5;241m=\u001b[39m \u001b[38;5;241m70\u001b[39m)\n",
      "File \u001b[0;32m/opt/anaconda3/envs/PPHR/lib/python3.12/site-packages/pandas/core/ops/common.py:76\u001b[0m, in \u001b[0;36m_unpack_zerodim_and_defer.<locals>.new_method\u001b[0;34m(self, other)\u001b[0m\n\u001b[1;32m     72\u001b[0m             \u001b[38;5;28;01mreturn\u001b[39;00m \u001b[38;5;28mNotImplemented\u001b[39m\n\u001b[1;32m     74\u001b[0m other \u001b[38;5;241m=\u001b[39m item_from_zerodim(other)\n\u001b[0;32m---> 76\u001b[0m \u001b[38;5;28;01mreturn\u001b[39;00m method(\u001b[38;5;28mself\u001b[39m, other)\n",
      "File \u001b[0;32m/opt/anaconda3/envs/PPHR/lib/python3.12/site-packages/pandas/core/arraylike.py:60\u001b[0m, in \u001b[0;36mOpsMixin.__ge__\u001b[0;34m(self, other)\u001b[0m\n\u001b[1;32m     58\u001b[0m \u001b[38;5;129m@unpack_zerodim_and_defer\u001b[39m(\u001b[38;5;124m\"\u001b[39m\u001b[38;5;124m__ge__\u001b[39m\u001b[38;5;124m\"\u001b[39m)\n\u001b[1;32m     59\u001b[0m \u001b[38;5;28;01mdef\u001b[39;00m \u001b[38;5;21m__ge__\u001b[39m(\u001b[38;5;28mself\u001b[39m, other):\n\u001b[0;32m---> 60\u001b[0m     \u001b[38;5;28;01mreturn\u001b[39;00m \u001b[38;5;28mself\u001b[39m\u001b[38;5;241m.\u001b[39m_cmp_method(other, operator\u001b[38;5;241m.\u001b[39mge)\n",
      "File \u001b[0;32m/opt/anaconda3/envs/PPHR/lib/python3.12/site-packages/pandas/core/series.py:6119\u001b[0m, in \u001b[0;36mSeries._cmp_method\u001b[0;34m(self, other, op)\u001b[0m\n\u001b[1;32m   6116\u001b[0m lvalues \u001b[38;5;241m=\u001b[39m \u001b[38;5;28mself\u001b[39m\u001b[38;5;241m.\u001b[39m_values\n\u001b[1;32m   6117\u001b[0m rvalues \u001b[38;5;241m=\u001b[39m extract_array(other, extract_numpy\u001b[38;5;241m=\u001b[39m\u001b[38;5;28;01mTrue\u001b[39;00m, extract_range\u001b[38;5;241m=\u001b[39m\u001b[38;5;28;01mTrue\u001b[39;00m)\n\u001b[0;32m-> 6119\u001b[0m res_values \u001b[38;5;241m=\u001b[39m ops\u001b[38;5;241m.\u001b[39mcomparison_op(lvalues, rvalues, op)\n\u001b[1;32m   6121\u001b[0m \u001b[38;5;28;01mreturn\u001b[39;00m \u001b[38;5;28mself\u001b[39m\u001b[38;5;241m.\u001b[39m_construct_result(res_values, name\u001b[38;5;241m=\u001b[39mres_name)\n",
      "File \u001b[0;32m/opt/anaconda3/envs/PPHR/lib/python3.12/site-packages/pandas/core/ops/array_ops.py:344\u001b[0m, in \u001b[0;36mcomparison_op\u001b[0;34m(left, right, op)\u001b[0m\n\u001b[1;32m    341\u001b[0m     \u001b[38;5;28;01mreturn\u001b[39;00m invalid_comparison(lvalues, rvalues, op)\n\u001b[1;32m    343\u001b[0m \u001b[38;5;28;01melif\u001b[39;00m lvalues\u001b[38;5;241m.\u001b[39mdtype \u001b[38;5;241m==\u001b[39m \u001b[38;5;28mobject\u001b[39m \u001b[38;5;129;01mor\u001b[39;00m \u001b[38;5;28misinstance\u001b[39m(rvalues, \u001b[38;5;28mstr\u001b[39m):\n\u001b[0;32m--> 344\u001b[0m     res_values \u001b[38;5;241m=\u001b[39m comp_method_OBJECT_ARRAY(op, lvalues, rvalues)\n\u001b[1;32m    346\u001b[0m \u001b[38;5;28;01melse\u001b[39;00m:\n\u001b[1;32m    347\u001b[0m     res_values \u001b[38;5;241m=\u001b[39m _na_arithmetic_op(lvalues, rvalues, op, is_cmp\u001b[38;5;241m=\u001b[39m\u001b[38;5;28;01mTrue\u001b[39;00m)\n",
      "File \u001b[0;32m/opt/anaconda3/envs/PPHR/lib/python3.12/site-packages/pandas/core/ops/array_ops.py:129\u001b[0m, in \u001b[0;36mcomp_method_OBJECT_ARRAY\u001b[0;34m(op, x, y)\u001b[0m\n\u001b[1;32m    127\u001b[0m     result \u001b[38;5;241m=\u001b[39m libops\u001b[38;5;241m.\u001b[39mvec_compare(x\u001b[38;5;241m.\u001b[39mravel(), y\u001b[38;5;241m.\u001b[39mravel(), op)\n\u001b[1;32m    128\u001b[0m \u001b[38;5;28;01melse\u001b[39;00m:\n\u001b[0;32m--> 129\u001b[0m     result \u001b[38;5;241m=\u001b[39m libops\u001b[38;5;241m.\u001b[39mscalar_compare(x\u001b[38;5;241m.\u001b[39mravel(), y, op)\n\u001b[1;32m    130\u001b[0m \u001b[38;5;28;01mreturn\u001b[39;00m result\u001b[38;5;241m.\u001b[39mreshape(x\u001b[38;5;241m.\u001b[39mshape)\n",
      "File \u001b[0;32mops.pyx:107\u001b[0m, in \u001b[0;36mpandas._libs.ops.scalar_compare\u001b[0;34m()\u001b[0m\n",
      "\u001b[0;31mTypeError\u001b[0m: '>=' not supported between instances of 'str' and 'int'"
     ]
    }
   ],
   "source": [
    "# 示例：分析自定义子组（女性老年患者）\n",
    "print(\"=\" * 60)\n",
    "print(\"ANALYZING: Custom Subgroup (Female Elderly Patients)\")\n",
    "print(\"=\" * 60)\n",
    "\n",
    "# 定义自定义筛选条件\n",
    "def female_elderly_filter(df):\n",
    "    return (df['gender'] == 'Female') & (df['age'] >= 70)\n",
    "\n",
    "# 运行分析\n",
    "custom_result = analyzer.run_single_subgroup(\n",
    "    'custom_female_elderly', \n",
    "    custom_filter=female_elderly_filter\n",
    ")\n",
    "\n",
    "# 显示结果\n",
    "if custom_result['status'] == 'success':\n",
    "    print(f\"✅ Analysis completed successfully!\")\n",
    "    print(f\"�� Data size: {custom_result['data_size']} patients\")\n",
    "    print(f\"🏆 Best model: {custom_result['best_model']}\")\n",
    "    \n",
    "    # 显示测试结果\n",
    "    print(\"\\n📈 Test Results:\")\n",
    "    display(custom_result['test_results'])\n",
    "    \n",
    "else:\n",
    "    print(f\"❌ Analysis failed: {custom_result['error']}\")"
   ]
  },
  {
   "cell_type": "code",
   "execution_count": null,
   "id": "03b36167",
   "metadata": {},
   "outputs": [],
   "source": [
    "# 创建结果总结\n",
    "print(\"=\" * 60)\n",
    "print(\"SENSITIVITY ANALYSIS SUMMARY\")\n",
    "print(\"=\" * 60)\n",
    "\n",
    "# 统计所有结果\n",
    "all_results = analyzer.subgroup_results\n",
    "successful_analyses = [name for name, result in all_results.items() \n",
    "                      if result['status'] == 'success']\n",
    "\n",
    "print(f\"📊 Total analyses: {len(all_results)}\")\n",
    "print(f\"✅ Successful: {len(successful_analyses)}\")\n",
    "print(f\"❌ Failed: {len(all_results) - len(successful_analyses)}\")\n",
    "\n",
    "# 显示每个子组的最佳AUC\n",
    "print(\"\\n🏆 Best AUC for each subgroup:\")\n",
    "for subgroup_name in successful_analyses:\n",
    "    result = all_results[subgroup_name]\n",
    "    best_auc = result['test_results']['AUC'].max()\n",
    "    data_size = result['data_size']\n",
    "    print(f\"  {subgroup_name}: {best_auc:.4f} (n={data_size})\")\n",
    "\n",
    "# 创建AUC比较图\n",
    "if len(successful_analyses) >= 2:\n",
    "    plt.figure(figsize=(12, 6))\n",
    "    \n",
    "    # 提取AUC数据\n",
    "    auc_data = []\n",
    "    for subgroup_name in successful_analyses:\n",
    "        result = all_results[subgroup_name]\n",
    "        for model in result['test_results'].index:\n",
    "            auc_data.append({\n",
    "                'Subgroup': subgroup_name,\n",
    "                'Model': model,\n",
    "                'AUC': result['test_results'].loc[model, 'AUC']\n",
    "            })\n",
    "    \n",
    "    auc_df = pd.DataFrame(auc_data)\n",
    "    \n",
    "    # 绘制AUC比较图\n",
    "    pivot_auc = auc_df.pivot(index='Subgroup', columns='Model', values='AUC')\n",
    "    pivot_auc.plot(kind='bar', ax=plt.gca())\n",
    "    plt.title('AUC Comparison Across Subgroups and Models')\n",
    "    plt.ylabel('AUC Score')\n",
    "    plt.xlabel('Subgroup')\n",
    "    plt.xticks(rotation=45)\n",
    "    plt.legend(bbox_to_anchor=(1.05, 1), loc='upper left')\n",
    "    plt.tight_layout()\n",
    "    plt.show()\n",
    "\n",
    "print(\"\\n🎉 Sensitivity analysis completed!\")"
   ]
  }
 ],
 "metadata": {
  "kernelspec": {
   "display_name": "PPHR",
   "language": "python",
   "name": "python3"
  },
  "language_info": {
   "codemirror_mode": {
    "name": "ipython",
    "version": 3
   },
   "file_extension": ".py",
   "mimetype": "text/x-python",
   "name": "python",
   "nbconvert_exporter": "python",
   "pygments_lexer": "ipython3",
   "version": "3.12.5"
  }
 },
 "nbformat": 4,
 "nbformat_minor": 5
}
