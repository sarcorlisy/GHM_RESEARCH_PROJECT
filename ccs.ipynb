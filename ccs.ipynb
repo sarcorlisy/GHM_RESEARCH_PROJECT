{
 "cells": [
  {
   "cell_type": "code",
   "execution_count": 5,
   "id": "525c1170",
   "metadata": {},
   "outputs": [
    {
     "name": "stdout",
     "output_type": "stream",
     "text": [
      "Mapped_Category\n",
      "other            12931\n",
      "injuries          1104\n",
      "genitourinary       28\n",
      "neoplasms           25\n",
      "Name: count, dtype: int64\n"
     ]
    }
   ],
   "source": [
    "import pandas as pd\n",
    "\n",
    "# ✅ Step 1: 读取 Excel 文件（你刚刚下载的 CCS ICD9 映射）\n",
    "ccs_df = pd.read_excel(\"ccs_icd9_mapping.xlsx\")\n",
    "ccs_df.columns = ['ICD9_Code', 'CCS_Category', 'CCS_Desc', 'ICD9_Desc']\n",
    "ccs_df['ICD9_Code'] = ccs_df['ICD9_Code'].astype(str).str.strip()\n",
    "\n",
    "# ✅ Step 2: 定义 9 大类关键词映射规则\n",
    "category_keywords = {\n",
    "    'circulatory': ['circulatory'],\n",
    "    'respiratory': ['respiratory'],\n",
    "    'digestive': ['digestive'],\n",
    "    'diabetes': ['diabetes'],\n",
    "    'injuries': ['injury', 'fracture', 'wound', 'burn', 'trauma'],\n",
    "    'musculoskeletal': ['musculoskeletal'],\n",
    "    'genitourinary': ['genitourinary', 'urinary', 'renal', 'kidney'],\n",
    "    'neoplasms': ['neoplasm', 'cancer', 'tumor', 'carcinoma'],\n",
    "    'other': []  # fallback\n",
    "}\n",
    "\n",
    "def map_ccs_desc_to_category(desc):\n",
    "    desc = str(desc).lower()\n",
    "    for cat, keywords in category_keywords.items():\n",
    "        if any(kw in desc for kw in keywords):\n",
    "            return cat\n",
    "    return 'other'\n",
    "\n",
    "# ✅ Step 3: 添加 “Mapped_Category” 列（最终九大类）\n",
    "ccs_df['Mapped_Category'] = ccs_df['CCS_Desc'].apply(map_ccs_desc_to_category)\n",
    "\n",
    "# ✅ Step 4: 保存最终映射表（可用于查阅或后续 merge）\n",
    "ccs_mapping_final = ccs_df[['ICD9_Code', 'CCS_Category', 'CCS_Desc', 'Mapped_Category']]\n",
    "ccs_mapping_final.to_csv(\"icd9_ccs_9category_mapping.csv\", index=False)\n",
    "\n",
    "# ✅ 可视化统计：每类对应 ICD9 数量\n",
    "print(ccs_mapping_final['Mapped_Category'].value_counts())\n"
   ]
  }
 ],
 "metadata": {
  "kernelspec": {
   "display_name": "PPHR",
   "language": "python",
   "name": "python3"
  },
  "language_info": {
   "codemirror_mode": {
    "name": "ipython",
    "version": 3
   },
   "file_extension": ".py",
   "mimetype": "text/x-python",
   "name": "python",
   "nbconvert_exporter": "python",
   "pygments_lexer": "ipython3",
   "version": "3.12.5"
  }
 },
 "nbformat": 4,
 "nbformat_minor": 5
}
